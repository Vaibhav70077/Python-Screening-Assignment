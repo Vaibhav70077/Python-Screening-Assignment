{
 "cells": [
  {
   "cell_type": "markdown",
   "metadata": {},
   "source": [
    "### Q1. Create a function in python to read the text file and replace specific content of the file."
   ]
  },
  {
   "cell_type": "markdown",
   "metadata": {},
   "source": [
    "File name                 ->     example.txt\n",
    "\n",
    "Origin file content       ->     This is a placement assignment\n",
    "\n",
    "Replace string            ->     Placement should be replaced by screening.\n",
    "\n",
    "Replaced file content     ->     This is a screening assignment"
   ]
  },
  {
   "cell_type": "code",
   "execution_count": 1,
   "metadata": {},
   "outputs": [],
   "source": [
    "# This is before changing the placement string\n",
    "f = open(\"example.txt\",\"w+\")\n",
    "f.write(\"this is a placement assignment\")\n",
    "f.close()\n",
    "# This is after changing the placement string into screening string\n",
    "f = open(\"example.txt\",\"r+\")\n",
    "f1 = f.read()\n",
    "f1 = f1.replace(\"placement\",\"screening\")\n",
    "f = open(\"example.txt\",\"w\")\n",
    "f.write(f1)\n",
    "f.close()"
   ]
  },
  {
   "cell_type": "markdown",
   "metadata": {},
   "source": [
    "### Q2. Demonstrate use of abstract class, multiple inheritance and decorator in python using examples."
   ]
  },
  {
   "cell_type": "markdown",
   "metadata": {},
   "source": [
    "In this abstract class we can't instantiate abstract class Car with abstract methods toyota"
   ]
  },
  {
   "cell_type": "code",
   "execution_count": 3,
   "metadata": {},
   "outputs": [
    {
     "name": "stdout",
     "output_type": "stream",
     "text": [
      "check the run\n"
     ]
    }
   ],
   "source": [
    "# This is an example of abstract class\n",
    "\n",
    "from abc import ABC, abstractmethod\n",
    "\n",
    "class Car(ABC):\n",
    "    @abstractmethod\n",
    "    def toyota(self):\n",
    "        print(\"first class\") \n",
    "    \n",
    "class Car1(Car):    \n",
    "    def toyota(self):\n",
    "        print(\"check the run\")\n",
    "        \n",
    "    \n",
    "#c = Car()\n",
    "#c.toyota()\n",
    "\n",
    "c1 = Car1()\n",
    "c1.toyota()"
   ]
  },
  {
   "cell_type": "markdown",
   "metadata": {},
   "source": [
    "In multiple inheritance we inherit the properties of all base classes into one main class like we are doing in this example"
   ]
  },
  {
   "cell_type": "code",
   "execution_count": 4,
   "metadata": {},
   "outputs": [
    {
     "name": "stdout",
     "output_type": "stream",
     "text": [
      " This is a maruti Car \n",
      " This is a hero Bike \n",
      " This is a volvo Bus \n",
      " This is a eicher Truck \n",
      " This is a indigo plane \n",
      "This is the main Class\n"
     ]
    }
   ],
   "source": [
    "# This is an example of multiple inheritance\n",
    "\n",
    "class Car():\n",
    "    def maruti(self):\n",
    "        print(\" This is a maruti Car \")\n",
    "        \n",
    "class Bike():\n",
    "    def hero(self):\n",
    "        print(\" This is a hero Bike \")\n",
    "        \n",
    "class Bus():\n",
    "    def volvo(self):\n",
    "        print(\" This is a volvo Bus \")\n",
    "        \n",
    "class Truck():\n",
    "    def eicher(self):\n",
    "        print(\" This is a eicher Truck \")\n",
    "        \n",
    "class Plane():\n",
    "    def indigo(self):\n",
    "        print(\" This is a indigo plane \")\n",
    "        \n",
    "class Transport(Car,Bike,Bus,Truck,Plane):\n",
    "    def main(self):\n",
    "        print(\"This is the main Class\")\n",
    "        \n",
    "B = Transport()\n",
    "B.maruti()\n",
    "B.hero()\n",
    "B.volvo()\n",
    "B.eicher()\n",
    "B.indigo()\n",
    "B.main()"
   ]
  },
  {
   "cell_type": "markdown",
   "metadata": {},
   "source": [
    "In decorators we extend the behaviour of a function and we are also passing function into a variable and making it an instance object."
   ]
  },
  {
   "cell_type": "code",
   "execution_count": 5,
   "metadata": {},
   "outputs": [
    {
     "data": {
      "text/plain": [
       "14.285714285714286"
      ]
     },
     "execution_count": 5,
     "metadata": {},
     "output_type": "execute_result"
    }
   ],
   "source": [
    "# This is an example of Decorator\n",
    "\n",
    "def div(a,b):\n",
    "    return a/b\n",
    "\n",
    "# When Denominator is big swap it\n",
    "\n",
    "def swap(func):\n",
    "    \n",
    "    def inner(a,b):\n",
    "        if a < b :\n",
    "            a,b = b,a\n",
    "        return func(a,b)\n",
    "    \n",
    "    return inner\n",
    "\n",
    "div = swap(div)\n",
    "\n",
    "div(7,100)"
   ]
  }
 ],
 "metadata": {
  "kernelspec": {
   "display_name": "Python 3",
   "language": "python",
   "name": "python3"
  },
  "language_info": {
   "codemirror_mode": {
    "name": "ipython",
    "version": 3
   },
   "file_extension": ".py",
   "mimetype": "text/x-python",
   "name": "python",
   "nbconvert_exporter": "python",
   "pygments_lexer": "ipython3",
   "version": "3.8.5"
  }
 },
 "nbformat": 4,
 "nbformat_minor": 4
}
